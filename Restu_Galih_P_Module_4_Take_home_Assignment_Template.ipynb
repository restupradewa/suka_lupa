{
  "nbformat": 4,
  "nbformat_minor": 0,
  "metadata": {
    "colab": {
      "provenance": [],
      "include_colab_link": true
    },
    "kernelspec": {
      "name": "python3",
      "display_name": "Python 3"
    },
    "language_info": {
      "name": "python"
    }
  },
  "cells": [
    {
      "cell_type": "markdown",
      "metadata": {
        "id": "view-in-github",
        "colab_type": "text"
      },
      "source": [
        "<a href=\"https://colab.research.google.com/github/restupradewa/suka_lupa/blob/main/Restu_Galih_P_Module_4_Take_home_Assignment_Template.ipynb\" target=\"_parent\"><img src=\"https://colab.research.google.com/assets/colab-badge.svg\" alt=\"Open In Colab\"/></a>"
      ]
    },
    {
      "cell_type": "markdown",
      "source": [
        "# Import Packages"
      ],
      "metadata": {
        "id": "XfYwSIvKvWQ8"
      }
    },
    {
      "cell_type": "code",
      "source": [
        "import sys\n",
        "import os\n",
        "import gdown\n",
        "import logging\n",
        "logging.getLogger('matplotlib.font_manager').setLevel(level=logging.CRITICAL)\n",
        "\n",
        "import warnings\n",
        "warnings.filterwarnings('ignore')\n",
        "\n",
        "import pandas as pd\n",
        "\n",
        "from sklearn.model_selection import train_test_split\n",
        "from sklearn.metrics import accuracy_score, precision_score, recall_score, f1_score, confusion_matrix\n",
        "\n",
        "random_state = 1234 # get reproducible trees\n"
      ],
      "metadata": {
        "id": "av1nJAoPtI-4"
      },
      "execution_count": 2,
      "outputs": []
    },
    {
      "cell_type": "markdown",
      "source": [
        "# Prepare Data"
      ],
      "metadata": {
        "id": "lnlnpGTUvUsQ"
      }
    },
    {
      "cell_type": "markdown",
      "source": [
        "**Restartnet** is a telecommunication company that are market leader in in Wakanda since 1990 and the first to create high speed mobile internet that integrate satellite and ground cable.\n",
        "\n",
        "In the last 5 years, there are more fierce competition with new competitor emerging. A lot of Restartnet customer is moving to that new competitor and Restartnet CEO is quite concern about that issue.\n",
        "\n",
        "After digging some data, Restarnet CEO realize that their churn rate is high at 25%.\n",
        "\n"
      ],
      "metadata": {
        "id": "NQZb3KJZYEZi"
      }
    },
    {
      "cell_type": "markdown",
      "source": [
        "As a **CEO Analyst**, we initiate to find which customers are likely to churn by creating a **customer churn model** so that we can offer accurate engagement packages to the targeted customers.\n",
        "\n",
        "After we provide the list of customer, we calculate the impact for the company.\n",
        "\n",
        "With assumsions:\n",
        "\n",
        "* For each customer churn, we lost $500.\n",
        "\n",
        "* Engagement program cost is $100, and\n",
        "\n",
        "* All customer that get will stay\n"
      ],
      "metadata": {
        "id": "x_bABWbRXU6q"
      }
    },
    {
      "cell_type": "markdown",
      "source": [
        "The **data** is provided in this [link](https://drive.google.com/file/d/1jAFn03vk055D9gZrrzM70_cdPyUDg-bv/view) which consist of sample **unique customer** that have already bought internet package in Restartnet company from 2010 to 2020. The customer data consist of their demographic data and the summary of their transaction in Restartnet. The detail of the data definition can be seen below."
      ],
      "metadata": {
        "id": "9f9bPLW77RUI"
      }
    },
    {
      "cell_type": "markdown",
      "source": [
        "Data Definition:\n",
        "\n",
        "| Field           | Description                                     |\n",
        "|-----------------|-------------------------------------------------|\n",
        "| customerID      | Customer's unique identifier                     |\n",
        "| gender          | Whether the customer is a male or a female      |\n",
        "| SeniorCitizen   | Whether the customer is a senior citizen or not |\n",
        "| Partner         | Whether the customer has a partner or not       |\n",
        "| Dependents      | Whether the customer has dependents or not      |\n",
        "| tenure          | Number of months the customer has stayed        |\n",
        "| PhoneService    | Whether the customer has a phone service or not |\n",
        "| MultipleLines   | Whether the customer has multiple lines or not  |\n",
        "| InternetService | Customer's internet service provider            |\n",
        "| OnlineSecurity  | Whether the customer has online security or not |\n",
        "| OnlineBackup    | Whether the customer has online backup or not   |\n",
        "| DeviceProtection| Whether the customer has device protection or not |\n",
        "| TechSupport     | Whether the customer has tech support or not    |\n",
        "| StreamingTV     | Whether the customer has streaming TV or not    |\n",
        "| StreamingMovies | Whether the customer has streaming movies or not|\n",
        "| Contract        | The contract term of the customer               |\n",
        "| PaperlessBilling| Whether the customer has paperless billing or not |\n",
        "| PaymentMethod   | The customer's payment method                   |\n",
        "| MonthlyCharges  | The amount charged to the customer monthly      |\n",
        "| TotalCharges    | The total amount charged to the customer        |\n",
        "| Churn           | Whether the customer churned or not              |\n",
        "\n"
      ],
      "metadata": {
        "id": "srA4kN9hCVfw"
      }
    },
    {
      "cell_type": "code",
      "execution_count": 3,
      "metadata": {
        "id": "2J8FJ-M0s7c6",
        "colab": {
          "base_uri": "https://localhost:8080/",
          "height": 104
        },
        "outputId": "5bc69d99-5afb-4c42-b17b-90a06cc401d1"
      },
      "outputs": [
        {
          "output_type": "stream",
          "name": "stderr",
          "text": [
            "Downloading...\n",
            "From: https://drive.google.com/uc?id=1jAFn03vk055D9gZrrzM70_cdPyUDg-bv\n",
            "To: /content/churn_data.csv\n",
            "100%|██████████| 977k/977k [00:00<00:00, 28.4MB/s]\n"
          ]
        },
        {
          "output_type": "execute_result",
          "data": {
            "text/plain": [
              "'churn_data.csv'"
            ],
            "application/vnd.google.colaboratory.intrinsic+json": {
              "type": "string"
            }
          },
          "metadata": {},
          "execution_count": 3
        }
      ],
      "source": [
        "# Download Data\n",
        "gdrive_url = \"https://drive.google.com/file/d/1jAFn03vk055D9gZrrzM70_cdPyUDg-bv/view\"\n",
        "file_name = 'churn_data.csv'\n",
        "gdown.download(gdrive_url, file_name, fuzzy=True)\n"
      ]
    },
    {
      "cell_type": "code",
      "source": [
        "df = pd.read_csv('churn_data.csv')"
      ],
      "metadata": {
        "id": "IMoIgZPutIio"
      },
      "execution_count": 4,
      "outputs": []
    },
    {
      "cell_type": "code",
      "source": [
        "numeric_features = ['tenure', 'MonthlyCharges', 'TotalCharges']\n",
        "categorical_features = ['gender', 'SeniorCitizen', 'Partner', 'Dependents',\n",
        "       'PhoneService', 'MultipleLines', 'InternetService',\n",
        "       'OnlineSecurity', 'OnlineBackup', 'DeviceProtection', 'TechSupport',\n",
        "       'StreamingTV', 'StreamingMovies', 'Contract', 'PaperlessBilling',\n",
        "       'PaymentMethod']\n",
        "\n",
        "features = numeric_features + categorical_features\n",
        "target = 'Churn'\n",
        "\n",
        "print(\"numeric_features : \", numeric_features)\n",
        "print(\"categorical_features : \", categorical_features)\n",
        "print(\"features: \", features)\n",
        "print(\"target: \", target)\n",
        "print(\"columns used: \", features + [target])\n"
      ],
      "metadata": {
        "id": "1Wz4HpF-dmru",
        "colab": {
          "base_uri": "https://localhost:8080/"
        },
        "outputId": "5b7b05ca-82e9-495a-8aae-61282f231abb"
      },
      "execution_count": 5,
      "outputs": [
        {
          "output_type": "stream",
          "name": "stdout",
          "text": [
            "numeric_features :  ['tenure', 'MonthlyCharges', 'TotalCharges']\n",
            "categorical_features :  ['gender', 'SeniorCitizen', 'Partner', 'Dependents', 'PhoneService', 'MultipleLines', 'InternetService', 'OnlineSecurity', 'OnlineBackup', 'DeviceProtection', 'TechSupport', 'StreamingTV', 'StreamingMovies', 'Contract', 'PaperlessBilling', 'PaymentMethod']\n",
            "features:  ['tenure', 'MonthlyCharges', 'TotalCharges', 'gender', 'SeniorCitizen', 'Partner', 'Dependents', 'PhoneService', 'MultipleLines', 'InternetService', 'OnlineSecurity', 'OnlineBackup', 'DeviceProtection', 'TechSupport', 'StreamingTV', 'StreamingMovies', 'Contract', 'PaperlessBilling', 'PaymentMethod']\n",
            "target:  Churn\n",
            "columns used:  ['tenure', 'MonthlyCharges', 'TotalCharges', 'gender', 'SeniorCitizen', 'Partner', 'Dependents', 'PhoneService', 'MultipleLines', 'InternetService', 'OnlineSecurity', 'OnlineBackup', 'DeviceProtection', 'TechSupport', 'StreamingTV', 'StreamingMovies', 'Contract', 'PaperlessBilling', 'PaymentMethod', 'Churn']\n"
          ]
        }
      ]
    },
    {
      "cell_type": "code",
      "source": [
        "df = df[ features + [target] ]\n"
      ],
      "metadata": {
        "id": "MCBVxPyneuK4"
      },
      "execution_count": 6,
      "outputs": []
    },
    {
      "cell_type": "code",
      "source": [
        "# Handle missing value on TotalCharges with value 0\n",
        "df['TotalCharges'] = df['TotalCharges'].fillna(0)\n",
        "\n",
        "# Handle Categorical Data\n",
        "## we transform categorical into several column as it will treated differently\n",
        "df = pd.get_dummies(df, columns = categorical_features)\n"
      ],
      "metadata": {
        "id": "rXIJ9t38jjrS"
      },
      "execution_count": 7,
      "outputs": []
    },
    {
      "cell_type": "code",
      "source": [
        "# transform target to 1 if Yes, 0 if No\n",
        "df[target] = (df[target] == 'Yes').astype(int)"
      ],
      "metadata": {
        "id": "-ksZqcPp1pTk"
      },
      "execution_count": 8,
      "outputs": []
    },
    {
      "cell_type": "code",
      "source": [
        "# Split data\n",
        "## Asumming df_test data is new data\n",
        "df_train, df_test = train_test_split(df, test_size=0.33, random_state=random_state)"
      ],
      "metadata": {
        "id": "829wx1LojJG7"
      },
      "execution_count": 9,
      "outputs": []
    },
    {
      "cell_type": "code",
      "source": [
        "df_train.head()"
      ],
      "metadata": {
        "id": "6ngcfo16j3ux",
        "colab": {
          "base_uri": "https://localhost:8080/",
          "height": 290
        },
        "outputId": "d86654fe-5a6e-451e-9095-3e56c41e54ea"
      },
      "execution_count": 10,
      "outputs": [
        {
          "output_type": "execute_result",
          "data": {
            "text/plain": [
              "      tenure  MonthlyCharges  TotalCharges  Churn  gender_Female  gender_Male  \\\n",
              "2632      55           64.75       3617.10      0           True        False   \n",
              "1210      17           69.00       1149.65      1          False         True   \n",
              "5018      72           19.70       1379.80      0           True        False   \n",
              "4891       4           65.60        250.10      0          False         True   \n",
              "3794       8           54.75        445.85      0          False         True   \n",
              "\n",
              "      SeniorCitizen_0  SeniorCitizen_1  Partner_No  Partner_Yes  ...  \\\n",
              "2632             True            False        True        False  ...   \n",
              "1210             True            False       False         True  ...   \n",
              "5018             True            False       False         True  ...   \n",
              "4891             True            False       False         True  ...   \n",
              "3794             True            False       False         True  ...   \n",
              "\n",
              "      StreamingMovies_Yes  Contract_Month-to-month  Contract_One year  \\\n",
              "2632                 True                    False              False   \n",
              "1210                False                     True              False   \n",
              "5018                False                    False              False   \n",
              "4891                False                     True              False   \n",
              "3794                False                     True              False   \n",
              "\n",
              "      Contract_Two year  PaperlessBilling_No  PaperlessBilling_Yes  \\\n",
              "2632               True                False                  True   \n",
              "1210              False                False                  True   \n",
              "5018               True                 True                 False   \n",
              "4891              False                 True                 False   \n",
              "3794              False                False                  True   \n",
              "\n",
              "      PaymentMethod_Bank transfer (automatic)  \\\n",
              "2632                                    False   \n",
              "1210                                    False   \n",
              "5018                                    False   \n",
              "4891                                    False   \n",
              "3794                                    False   \n",
              "\n",
              "      PaymentMethod_Credit card (automatic)  PaymentMethod_Electronic check  \\\n",
              "2632                                  False                           False   \n",
              "1210                                  False                            True   \n",
              "5018                                   True                           False   \n",
              "4891                                  False                            True   \n",
              "3794                                  False                           False   \n",
              "\n",
              "      PaymentMethod_Mailed check  \n",
              "2632                        True  \n",
              "1210                       False  \n",
              "5018                       False  \n",
              "4891                       False  \n",
              "3794                        True  \n",
              "\n",
              "[5 rows x 47 columns]"
            ],
            "text/html": [
              "\n",
              "  <div id=\"df-eedc5a24-22dd-45b3-ac32-78f18e5c02b7\" class=\"colab-df-container\">\n",
              "    <div>\n",
              "<style scoped>\n",
              "    .dataframe tbody tr th:only-of-type {\n",
              "        vertical-align: middle;\n",
              "    }\n",
              "\n",
              "    .dataframe tbody tr th {\n",
              "        vertical-align: top;\n",
              "    }\n",
              "\n",
              "    .dataframe thead th {\n",
              "        text-align: right;\n",
              "    }\n",
              "</style>\n",
              "<table border=\"1\" class=\"dataframe\">\n",
              "  <thead>\n",
              "    <tr style=\"text-align: right;\">\n",
              "      <th></th>\n",
              "      <th>tenure</th>\n",
              "      <th>MonthlyCharges</th>\n",
              "      <th>TotalCharges</th>\n",
              "      <th>Churn</th>\n",
              "      <th>gender_Female</th>\n",
              "      <th>gender_Male</th>\n",
              "      <th>SeniorCitizen_0</th>\n",
              "      <th>SeniorCitizen_1</th>\n",
              "      <th>Partner_No</th>\n",
              "      <th>Partner_Yes</th>\n",
              "      <th>...</th>\n",
              "      <th>StreamingMovies_Yes</th>\n",
              "      <th>Contract_Month-to-month</th>\n",
              "      <th>Contract_One year</th>\n",
              "      <th>Contract_Two year</th>\n",
              "      <th>PaperlessBilling_No</th>\n",
              "      <th>PaperlessBilling_Yes</th>\n",
              "      <th>PaymentMethod_Bank transfer (automatic)</th>\n",
              "      <th>PaymentMethod_Credit card (automatic)</th>\n",
              "      <th>PaymentMethod_Electronic check</th>\n",
              "      <th>PaymentMethod_Mailed check</th>\n",
              "    </tr>\n",
              "  </thead>\n",
              "  <tbody>\n",
              "    <tr>\n",
              "      <th>2632</th>\n",
              "      <td>55</td>\n",
              "      <td>64.75</td>\n",
              "      <td>3617.10</td>\n",
              "      <td>0</td>\n",
              "      <td>True</td>\n",
              "      <td>False</td>\n",
              "      <td>True</td>\n",
              "      <td>False</td>\n",
              "      <td>True</td>\n",
              "      <td>False</td>\n",
              "      <td>...</td>\n",
              "      <td>True</td>\n",
              "      <td>False</td>\n",
              "      <td>False</td>\n",
              "      <td>True</td>\n",
              "      <td>False</td>\n",
              "      <td>True</td>\n",
              "      <td>False</td>\n",
              "      <td>False</td>\n",
              "      <td>False</td>\n",
              "      <td>True</td>\n",
              "    </tr>\n",
              "    <tr>\n",
              "      <th>1210</th>\n",
              "      <td>17</td>\n",
              "      <td>69.00</td>\n",
              "      <td>1149.65</td>\n",
              "      <td>1</td>\n",
              "      <td>False</td>\n",
              "      <td>True</td>\n",
              "      <td>True</td>\n",
              "      <td>False</td>\n",
              "      <td>False</td>\n",
              "      <td>True</td>\n",
              "      <td>...</td>\n",
              "      <td>False</td>\n",
              "      <td>True</td>\n",
              "      <td>False</td>\n",
              "      <td>False</td>\n",
              "      <td>False</td>\n",
              "      <td>True</td>\n",
              "      <td>False</td>\n",
              "      <td>False</td>\n",
              "      <td>True</td>\n",
              "      <td>False</td>\n",
              "    </tr>\n",
              "    <tr>\n",
              "      <th>5018</th>\n",
              "      <td>72</td>\n",
              "      <td>19.70</td>\n",
              "      <td>1379.80</td>\n",
              "      <td>0</td>\n",
              "      <td>True</td>\n",
              "      <td>False</td>\n",
              "      <td>True</td>\n",
              "      <td>False</td>\n",
              "      <td>False</td>\n",
              "      <td>True</td>\n",
              "      <td>...</td>\n",
              "      <td>False</td>\n",
              "      <td>False</td>\n",
              "      <td>False</td>\n",
              "      <td>True</td>\n",
              "      <td>True</td>\n",
              "      <td>False</td>\n",
              "      <td>False</td>\n",
              "      <td>True</td>\n",
              "      <td>False</td>\n",
              "      <td>False</td>\n",
              "    </tr>\n",
              "    <tr>\n",
              "      <th>4891</th>\n",
              "      <td>4</td>\n",
              "      <td>65.60</td>\n",
              "      <td>250.10</td>\n",
              "      <td>0</td>\n",
              "      <td>False</td>\n",
              "      <td>True</td>\n",
              "      <td>True</td>\n",
              "      <td>False</td>\n",
              "      <td>False</td>\n",
              "      <td>True</td>\n",
              "      <td>...</td>\n",
              "      <td>False</td>\n",
              "      <td>True</td>\n",
              "      <td>False</td>\n",
              "      <td>False</td>\n",
              "      <td>True</td>\n",
              "      <td>False</td>\n",
              "      <td>False</td>\n",
              "      <td>False</td>\n",
              "      <td>True</td>\n",
              "      <td>False</td>\n",
              "    </tr>\n",
              "    <tr>\n",
              "      <th>3794</th>\n",
              "      <td>8</td>\n",
              "      <td>54.75</td>\n",
              "      <td>445.85</td>\n",
              "      <td>0</td>\n",
              "      <td>False</td>\n",
              "      <td>True</td>\n",
              "      <td>True</td>\n",
              "      <td>False</td>\n",
              "      <td>False</td>\n",
              "      <td>True</td>\n",
              "      <td>...</td>\n",
              "      <td>False</td>\n",
              "      <td>True</td>\n",
              "      <td>False</td>\n",
              "      <td>False</td>\n",
              "      <td>False</td>\n",
              "      <td>True</td>\n",
              "      <td>False</td>\n",
              "      <td>False</td>\n",
              "      <td>False</td>\n",
              "      <td>True</td>\n",
              "    </tr>\n",
              "  </tbody>\n",
              "</table>\n",
              "<p>5 rows × 47 columns</p>\n",
              "</div>\n",
              "    <div class=\"colab-df-buttons\">\n",
              "\n",
              "  <div class=\"colab-df-container\">\n",
              "    <button class=\"colab-df-convert\" onclick=\"convertToInteractive('df-eedc5a24-22dd-45b3-ac32-78f18e5c02b7')\"\n",
              "            title=\"Convert this dataframe to an interactive table.\"\n",
              "            style=\"display:none;\">\n",
              "\n",
              "  <svg xmlns=\"http://www.w3.org/2000/svg\" height=\"24px\" viewBox=\"0 -960 960 960\">\n",
              "    <path d=\"M120-120v-720h720v720H120Zm60-500h600v-160H180v160Zm220 220h160v-160H400v160Zm0 220h160v-160H400v160ZM180-400h160v-160H180v160Zm440 0h160v-160H620v160ZM180-180h160v-160H180v160Zm440 0h160v-160H620v160Z\"/>\n",
              "  </svg>\n",
              "    </button>\n",
              "\n",
              "  <style>\n",
              "    .colab-df-container {\n",
              "      display:flex;\n",
              "      gap: 12px;\n",
              "    }\n",
              "\n",
              "    .colab-df-convert {\n",
              "      background-color: #E8F0FE;\n",
              "      border: none;\n",
              "      border-radius: 50%;\n",
              "      cursor: pointer;\n",
              "      display: none;\n",
              "      fill: #1967D2;\n",
              "      height: 32px;\n",
              "      padding: 0 0 0 0;\n",
              "      width: 32px;\n",
              "    }\n",
              "\n",
              "    .colab-df-convert:hover {\n",
              "      background-color: #E2EBFA;\n",
              "      box-shadow: 0px 1px 2px rgba(60, 64, 67, 0.3), 0px 1px 3px 1px rgba(60, 64, 67, 0.15);\n",
              "      fill: #174EA6;\n",
              "    }\n",
              "\n",
              "    .colab-df-buttons div {\n",
              "      margin-bottom: 4px;\n",
              "    }\n",
              "\n",
              "    [theme=dark] .colab-df-convert {\n",
              "      background-color: #3B4455;\n",
              "      fill: #D2E3FC;\n",
              "    }\n",
              "\n",
              "    [theme=dark] .colab-df-convert:hover {\n",
              "      background-color: #434B5C;\n",
              "      box-shadow: 0px 1px 3px 1px rgba(0, 0, 0, 0.15);\n",
              "      filter: drop-shadow(0px 1px 2px rgba(0, 0, 0, 0.3));\n",
              "      fill: #FFFFFF;\n",
              "    }\n",
              "  </style>\n",
              "\n",
              "    <script>\n",
              "      const buttonEl =\n",
              "        document.querySelector('#df-eedc5a24-22dd-45b3-ac32-78f18e5c02b7 button.colab-df-convert');\n",
              "      buttonEl.style.display =\n",
              "        google.colab.kernel.accessAllowed ? 'block' : 'none';\n",
              "\n",
              "      async function convertToInteractive(key) {\n",
              "        const element = document.querySelector('#df-eedc5a24-22dd-45b3-ac32-78f18e5c02b7');\n",
              "        const dataTable =\n",
              "          await google.colab.kernel.invokeFunction('convertToInteractive',\n",
              "                                                    [key], {});\n",
              "        if (!dataTable) return;\n",
              "\n",
              "        const docLinkHtml = 'Like what you see? Visit the ' +\n",
              "          '<a target=\"_blank\" href=https://colab.research.google.com/notebooks/data_table.ipynb>data table notebook</a>'\n",
              "          + ' to learn more about interactive tables.';\n",
              "        element.innerHTML = '';\n",
              "        dataTable['output_type'] = 'display_data';\n",
              "        await google.colab.output.renderOutput(dataTable, element);\n",
              "        const docLink = document.createElement('div');\n",
              "        docLink.innerHTML = docLinkHtml;\n",
              "        element.appendChild(docLink);\n",
              "      }\n",
              "    </script>\n",
              "  </div>\n",
              "\n",
              "\n",
              "<div id=\"df-c61dfc50-4b40-4773-9a28-84e03689cd93\">\n",
              "  <button class=\"colab-df-quickchart\" onclick=\"quickchart('df-c61dfc50-4b40-4773-9a28-84e03689cd93')\"\n",
              "            title=\"Suggest charts\"\n",
              "            style=\"display:none;\">\n",
              "\n",
              "<svg xmlns=\"http://www.w3.org/2000/svg\" height=\"24px\"viewBox=\"0 0 24 24\"\n",
              "     width=\"24px\">\n",
              "    <g>\n",
              "        <path d=\"M19 3H5c-1.1 0-2 .9-2 2v14c0 1.1.9 2 2 2h14c1.1 0 2-.9 2-2V5c0-1.1-.9-2-2-2zM9 17H7v-7h2v7zm4 0h-2V7h2v10zm4 0h-2v-4h2v4z\"/>\n",
              "    </g>\n",
              "</svg>\n",
              "  </button>\n",
              "\n",
              "<style>\n",
              "  .colab-df-quickchart {\n",
              "      --bg-color: #E8F0FE;\n",
              "      --fill-color: #1967D2;\n",
              "      --hover-bg-color: #E2EBFA;\n",
              "      --hover-fill-color: #174EA6;\n",
              "      --disabled-fill-color: #AAA;\n",
              "      --disabled-bg-color: #DDD;\n",
              "  }\n",
              "\n",
              "  [theme=dark] .colab-df-quickchart {\n",
              "      --bg-color: #3B4455;\n",
              "      --fill-color: #D2E3FC;\n",
              "      --hover-bg-color: #434B5C;\n",
              "      --hover-fill-color: #FFFFFF;\n",
              "      --disabled-bg-color: #3B4455;\n",
              "      --disabled-fill-color: #666;\n",
              "  }\n",
              "\n",
              "  .colab-df-quickchart {\n",
              "    background-color: var(--bg-color);\n",
              "    border: none;\n",
              "    border-radius: 50%;\n",
              "    cursor: pointer;\n",
              "    display: none;\n",
              "    fill: var(--fill-color);\n",
              "    height: 32px;\n",
              "    padding: 0;\n",
              "    width: 32px;\n",
              "  }\n",
              "\n",
              "  .colab-df-quickchart:hover {\n",
              "    background-color: var(--hover-bg-color);\n",
              "    box-shadow: 0 1px 2px rgba(60, 64, 67, 0.3), 0 1px 3px 1px rgba(60, 64, 67, 0.15);\n",
              "    fill: var(--button-hover-fill-color);\n",
              "  }\n",
              "\n",
              "  .colab-df-quickchart-complete:disabled,\n",
              "  .colab-df-quickchart-complete:disabled:hover {\n",
              "    background-color: var(--disabled-bg-color);\n",
              "    fill: var(--disabled-fill-color);\n",
              "    box-shadow: none;\n",
              "  }\n",
              "\n",
              "  .colab-df-spinner {\n",
              "    border: 2px solid var(--fill-color);\n",
              "    border-color: transparent;\n",
              "    border-bottom-color: var(--fill-color);\n",
              "    animation:\n",
              "      spin 1s steps(1) infinite;\n",
              "  }\n",
              "\n",
              "  @keyframes spin {\n",
              "    0% {\n",
              "      border-color: transparent;\n",
              "      border-bottom-color: var(--fill-color);\n",
              "      border-left-color: var(--fill-color);\n",
              "    }\n",
              "    20% {\n",
              "      border-color: transparent;\n",
              "      border-left-color: var(--fill-color);\n",
              "      border-top-color: var(--fill-color);\n",
              "    }\n",
              "    30% {\n",
              "      border-color: transparent;\n",
              "      border-left-color: var(--fill-color);\n",
              "      border-top-color: var(--fill-color);\n",
              "      border-right-color: var(--fill-color);\n",
              "    }\n",
              "    40% {\n",
              "      border-color: transparent;\n",
              "      border-right-color: var(--fill-color);\n",
              "      border-top-color: var(--fill-color);\n",
              "    }\n",
              "    60% {\n",
              "      border-color: transparent;\n",
              "      border-right-color: var(--fill-color);\n",
              "    }\n",
              "    80% {\n",
              "      border-color: transparent;\n",
              "      border-right-color: var(--fill-color);\n",
              "      border-bottom-color: var(--fill-color);\n",
              "    }\n",
              "    90% {\n",
              "      border-color: transparent;\n",
              "      border-bottom-color: var(--fill-color);\n",
              "    }\n",
              "  }\n",
              "</style>\n",
              "\n",
              "  <script>\n",
              "    async function quickchart(key) {\n",
              "      const quickchartButtonEl =\n",
              "        document.querySelector('#' + key + ' button');\n",
              "      quickchartButtonEl.disabled = true;  // To prevent multiple clicks.\n",
              "      quickchartButtonEl.classList.add('colab-df-spinner');\n",
              "      try {\n",
              "        const charts = await google.colab.kernel.invokeFunction(\n",
              "            'suggestCharts', [key], {});\n",
              "      } catch (error) {\n",
              "        console.error('Error during call to suggestCharts:', error);\n",
              "      }\n",
              "      quickchartButtonEl.classList.remove('colab-df-spinner');\n",
              "      quickchartButtonEl.classList.add('colab-df-quickchart-complete');\n",
              "    }\n",
              "    (() => {\n",
              "      let quickchartButtonEl =\n",
              "        document.querySelector('#df-c61dfc50-4b40-4773-9a28-84e03689cd93 button');\n",
              "      quickchartButtonEl.style.display =\n",
              "        google.colab.kernel.accessAllowed ? 'block' : 'none';\n",
              "    })();\n",
              "  </script>\n",
              "</div>\n",
              "    </div>\n",
              "  </div>\n"
            ],
            "application/vnd.google.colaboratory.intrinsic+json": {
              "type": "dataframe",
              "variable_name": "df_train"
            }
          },
          "metadata": {},
          "execution_count": 10
        }
      ]
    },
    {
      "cell_type": "code",
      "source": [
        "df_train.columns"
      ],
      "metadata": {
        "id": "fddWSYpQj7Qd",
        "colab": {
          "base_uri": "https://localhost:8080/"
        },
        "outputId": "b639cc6a-e46c-49cf-ef68-c04a51f50008"
      },
      "execution_count": 11,
      "outputs": [
        {
          "output_type": "execute_result",
          "data": {
            "text/plain": [
              "Index(['tenure', 'MonthlyCharges', 'TotalCharges', 'Churn', 'gender_Female',\n",
              "       'gender_Male', 'SeniorCitizen_0', 'SeniorCitizen_1', 'Partner_No',\n",
              "       'Partner_Yes', 'Dependents_No', 'Dependents_Yes', 'PhoneService_No',\n",
              "       'PhoneService_Yes', 'MultipleLines_No',\n",
              "       'MultipleLines_No phone service', 'MultipleLines_Yes',\n",
              "       'InternetService_DSL', 'InternetService_Fiber optic',\n",
              "       'InternetService_No', 'OnlineSecurity_No',\n",
              "       'OnlineSecurity_No internet service', 'OnlineSecurity_Yes',\n",
              "       'OnlineBackup_No', 'OnlineBackup_No internet service',\n",
              "       'OnlineBackup_Yes', 'DeviceProtection_No',\n",
              "       'DeviceProtection_No internet service', 'DeviceProtection_Yes',\n",
              "       'TechSupport_No', 'TechSupport_No internet service', 'TechSupport_Yes',\n",
              "       'StreamingTV_No', 'StreamingTV_No internet service', 'StreamingTV_Yes',\n",
              "       'StreamingMovies_No', 'StreamingMovies_No internet service',\n",
              "       'StreamingMovies_Yes', 'Contract_Month-to-month', 'Contract_One year',\n",
              "       'Contract_Two year', 'PaperlessBilling_No', 'PaperlessBilling_Yes',\n",
              "       'PaymentMethod_Bank transfer (automatic)',\n",
              "       'PaymentMethod_Credit card (automatic)',\n",
              "       'PaymentMethod_Electronic check', 'PaymentMethod_Mailed check'],\n",
              "      dtype='object')"
            ]
          },
          "metadata": {},
          "execution_count": 11
        }
      ]
    },
    {
      "cell_type": "code",
      "source": [
        "features = list(df_train.columns)\n",
        "features.remove(target)\n",
        "\n",
        "features"
      ],
      "metadata": {
        "id": "wU64lADMkBXQ",
        "colab": {
          "base_uri": "https://localhost:8080/"
        },
        "outputId": "fb234165-8fde-4c87-a603-7a533c8381c2"
      },
      "execution_count": 12,
      "outputs": [
        {
          "output_type": "execute_result",
          "data": {
            "text/plain": [
              "['tenure',\n",
              " 'MonthlyCharges',\n",
              " 'TotalCharges',\n",
              " 'gender_Female',\n",
              " 'gender_Male',\n",
              " 'SeniorCitizen_0',\n",
              " 'SeniorCitizen_1',\n",
              " 'Partner_No',\n",
              " 'Partner_Yes',\n",
              " 'Dependents_No',\n",
              " 'Dependents_Yes',\n",
              " 'PhoneService_No',\n",
              " 'PhoneService_Yes',\n",
              " 'MultipleLines_No',\n",
              " 'MultipleLines_No phone service',\n",
              " 'MultipleLines_Yes',\n",
              " 'InternetService_DSL',\n",
              " 'InternetService_Fiber optic',\n",
              " 'InternetService_No',\n",
              " 'OnlineSecurity_No',\n",
              " 'OnlineSecurity_No internet service',\n",
              " 'OnlineSecurity_Yes',\n",
              " 'OnlineBackup_No',\n",
              " 'OnlineBackup_No internet service',\n",
              " 'OnlineBackup_Yes',\n",
              " 'DeviceProtection_No',\n",
              " 'DeviceProtection_No internet service',\n",
              " 'DeviceProtection_Yes',\n",
              " 'TechSupport_No',\n",
              " 'TechSupport_No internet service',\n",
              " 'TechSupport_Yes',\n",
              " 'StreamingTV_No',\n",
              " 'StreamingTV_No internet service',\n",
              " 'StreamingTV_Yes',\n",
              " 'StreamingMovies_No',\n",
              " 'StreamingMovies_No internet service',\n",
              " 'StreamingMovies_Yes',\n",
              " 'Contract_Month-to-month',\n",
              " 'Contract_One year',\n",
              " 'Contract_Two year',\n",
              " 'PaperlessBilling_No',\n",
              " 'PaperlessBilling_Yes',\n",
              " 'PaymentMethod_Bank transfer (automatic)',\n",
              " 'PaymentMethod_Credit card (automatic)',\n",
              " 'PaymentMethod_Electronic check',\n",
              " 'PaymentMethod_Mailed check']"
            ]
          },
          "metadata": {},
          "execution_count": 12
        }
      ]
    },
    {
      "cell_type": "markdown",
      "source": [
        "# Evaluation metrics comparison from several models"
      ],
      "metadata": {
        "id": "Up2omNUm7iTp"
      }
    },
    {
      "cell_type": "markdown",
      "source": [
        "## Train & Evaluate Decision Tree Classifier\n",
        "\n",
        "with specs\n",
        "```\n",
        "max depth = 7\n",
        "class weight = balanced\n",
        "random state = 1234\n",
        "```"
      ],
      "metadata": {
        "id": "_ftoeo4yoJLT"
      }
    },
    {
      "cell_type": "code",
      "source": [
        "# import model\n",
        "from sklearn.tree import DecisionTreeClassifier\n",
        "\n",
        "# initiate model\n",
        "model_tree = DecisionTreeClassifier(max_depth=7, random_state=random_state, class_weight = \"balanced\")\n",
        "\n",
        "# Train model\n",
        "model_tree.fit(df_train[features].values, df_train[target].values)"
      ],
      "metadata": {
        "id": "zP3DjKhjeuOB",
        "colab": {
          "base_uri": "https://localhost:8080/",
          "height": 74
        },
        "outputId": "c0905816-fce3-4963-f368-36bf834fb08a"
      },
      "execution_count": 13,
      "outputs": [
        {
          "output_type": "execute_result",
          "data": {
            "text/plain": [
              "DecisionTreeClassifier(class_weight='balanced', max_depth=7, random_state=1234)"
            ],
            "text/html": [
              "<style>#sk-container-id-1 {color: black;background-color: white;}#sk-container-id-1 pre{padding: 0;}#sk-container-id-1 div.sk-toggleable {background-color: white;}#sk-container-id-1 label.sk-toggleable__label {cursor: pointer;display: block;width: 100%;margin-bottom: 0;padding: 0.3em;box-sizing: border-box;text-align: center;}#sk-container-id-1 label.sk-toggleable__label-arrow:before {content: \"▸\";float: left;margin-right: 0.25em;color: #696969;}#sk-container-id-1 label.sk-toggleable__label-arrow:hover:before {color: black;}#sk-container-id-1 div.sk-estimator:hover label.sk-toggleable__label-arrow:before {color: black;}#sk-container-id-1 div.sk-toggleable__content {max-height: 0;max-width: 0;overflow: hidden;text-align: left;background-color: #f0f8ff;}#sk-container-id-1 div.sk-toggleable__content pre {margin: 0.2em;color: black;border-radius: 0.25em;background-color: #f0f8ff;}#sk-container-id-1 input.sk-toggleable__control:checked~div.sk-toggleable__content {max-height: 200px;max-width: 100%;overflow: auto;}#sk-container-id-1 input.sk-toggleable__control:checked~label.sk-toggleable__label-arrow:before {content: \"▾\";}#sk-container-id-1 div.sk-estimator input.sk-toggleable__control:checked~label.sk-toggleable__label {background-color: #d4ebff;}#sk-container-id-1 div.sk-label input.sk-toggleable__control:checked~label.sk-toggleable__label {background-color: #d4ebff;}#sk-container-id-1 input.sk-hidden--visually {border: 0;clip: rect(1px 1px 1px 1px);clip: rect(1px, 1px, 1px, 1px);height: 1px;margin: -1px;overflow: hidden;padding: 0;position: absolute;width: 1px;}#sk-container-id-1 div.sk-estimator {font-family: monospace;background-color: #f0f8ff;border: 1px dotted black;border-radius: 0.25em;box-sizing: border-box;margin-bottom: 0.5em;}#sk-container-id-1 div.sk-estimator:hover {background-color: #d4ebff;}#sk-container-id-1 div.sk-parallel-item::after {content: \"\";width: 100%;border-bottom: 1px solid gray;flex-grow: 1;}#sk-container-id-1 div.sk-label:hover label.sk-toggleable__label {background-color: #d4ebff;}#sk-container-id-1 div.sk-serial::before {content: \"\";position: absolute;border-left: 1px solid gray;box-sizing: border-box;top: 0;bottom: 0;left: 50%;z-index: 0;}#sk-container-id-1 div.sk-serial {display: flex;flex-direction: column;align-items: center;background-color: white;padding-right: 0.2em;padding-left: 0.2em;position: relative;}#sk-container-id-1 div.sk-item {position: relative;z-index: 1;}#sk-container-id-1 div.sk-parallel {display: flex;align-items: stretch;justify-content: center;background-color: white;position: relative;}#sk-container-id-1 div.sk-item::before, #sk-container-id-1 div.sk-parallel-item::before {content: \"\";position: absolute;border-left: 1px solid gray;box-sizing: border-box;top: 0;bottom: 0;left: 50%;z-index: -1;}#sk-container-id-1 div.sk-parallel-item {display: flex;flex-direction: column;z-index: 1;position: relative;background-color: white;}#sk-container-id-1 div.sk-parallel-item:first-child::after {align-self: flex-end;width: 50%;}#sk-container-id-1 div.sk-parallel-item:last-child::after {align-self: flex-start;width: 50%;}#sk-container-id-1 div.sk-parallel-item:only-child::after {width: 0;}#sk-container-id-1 div.sk-dashed-wrapped {border: 1px dashed gray;margin: 0 0.4em 0.5em 0.4em;box-sizing: border-box;padding-bottom: 0.4em;background-color: white;}#sk-container-id-1 div.sk-label label {font-family: monospace;font-weight: bold;display: inline-block;line-height: 1.2em;}#sk-container-id-1 div.sk-label-container {text-align: center;}#sk-container-id-1 div.sk-container {/* jupyter's `normalize.less` sets `[hidden] { display: none; }` but bootstrap.min.css set `[hidden] { display: none !important; }` so we also need the `!important` here to be able to override the default hidden behavior on the sphinx rendered scikit-learn.org. See: https://github.com/scikit-learn/scikit-learn/issues/21755 */display: inline-block !important;position: relative;}#sk-container-id-1 div.sk-text-repr-fallback {display: none;}</style><div id=\"sk-container-id-1\" class=\"sk-top-container\"><div class=\"sk-text-repr-fallback\"><pre>DecisionTreeClassifier(class_weight=&#x27;balanced&#x27;, max_depth=7, random_state=1234)</pre><b>In a Jupyter environment, please rerun this cell to show the HTML representation or trust the notebook. <br />On GitHub, the HTML representation is unable to render, please try loading this page with nbviewer.org.</b></div><div class=\"sk-container\" hidden><div class=\"sk-item\"><div class=\"sk-estimator sk-toggleable\"><input class=\"sk-toggleable__control sk-hidden--visually\" id=\"sk-estimator-id-1\" type=\"checkbox\" checked><label for=\"sk-estimator-id-1\" class=\"sk-toggleable__label sk-toggleable__label-arrow\">DecisionTreeClassifier</label><div class=\"sk-toggleable__content\"><pre>DecisionTreeClassifier(class_weight=&#x27;balanced&#x27;, max_depth=7, random_state=1234)</pre></div></div></div></div></div>"
            ]
          },
          "metadata": {},
          "execution_count": 13
        }
      ]
    },
    {
      "cell_type": "code",
      "source": [
        "# Evaluate Precision, Recall, and F1 using Test Data\n",
        "prediction = model_tree.predict(df_test[features])\n",
        "label = df_test[target].values\n",
        "\n",
        "#Print\n",
        "print(\"precision_score\\t:\" ,precision_score(label, prediction))\n",
        "print(\"recall_score \\t:\" ,recall_score(label, prediction))\n",
        "print(\"f1_score \\t:\" ,f1_score(label, prediction))"
      ],
      "metadata": {
        "id": "btKLsbkdn4l3",
        "colab": {
          "base_uri": "https://localhost:8080/"
        },
        "outputId": "e9809647-127d-414e-d45d-7a81ec41948a"
      },
      "execution_count": 14,
      "outputs": [
        {
          "output_type": "stream",
          "name": "stdout",
          "text": [
            "precision_score\t: 0.46303901437371664\n",
            "recall_score \t: 0.754180602006689\n",
            "f1_score \t: 0.573791348600509\n"
          ]
        }
      ]
    },
    {
      "cell_type": "markdown",
      "source": [
        "## Train & Evaluate Random Forest\n",
        "\n",
        "with specs\n",
        "```\n",
        "n estimators = 10\n",
        "max_depth = 3\n",
        "random_state=random_state\n",
        "class_weight = 'balanced'\n",
        "```"
      ],
      "metadata": {
        "id": "F-8xfvm16Hlm"
      }
    },
    {
      "cell_type": "code",
      "source": [
        "# import model\n",
        "from sklearn.ensemble import RandomForestClassifier\n",
        "\n",
        "# initiate model\n",
        "model_rf = RandomForestClassifier(n_estimators= 10, max_depth=3, random_state=random_state, class_weight = \"balanced\")\n",
        "\n",
        "# Train model\n",
        "model_rf.fit(df_train[features].values, df_train[target].values)"
      ],
      "metadata": {
        "id": "nD6xRqRY6Hlt",
        "colab": {
          "base_uri": "https://localhost:8080/",
          "height": 91
        },
        "outputId": "b1603820-4044-413b-d108-924094bae526"
      },
      "execution_count": 15,
      "outputs": [
        {
          "output_type": "execute_result",
          "data": {
            "text/plain": [
              "RandomForestClassifier(class_weight='balanced', max_depth=3, n_estimators=10,\n",
              "                       random_state=1234)"
            ],
            "text/html": [
              "<style>#sk-container-id-2 {color: black;background-color: white;}#sk-container-id-2 pre{padding: 0;}#sk-container-id-2 div.sk-toggleable {background-color: white;}#sk-container-id-2 label.sk-toggleable__label {cursor: pointer;display: block;width: 100%;margin-bottom: 0;padding: 0.3em;box-sizing: border-box;text-align: center;}#sk-container-id-2 label.sk-toggleable__label-arrow:before {content: \"▸\";float: left;margin-right: 0.25em;color: #696969;}#sk-container-id-2 label.sk-toggleable__label-arrow:hover:before {color: black;}#sk-container-id-2 div.sk-estimator:hover label.sk-toggleable__label-arrow:before {color: black;}#sk-container-id-2 div.sk-toggleable__content {max-height: 0;max-width: 0;overflow: hidden;text-align: left;background-color: #f0f8ff;}#sk-container-id-2 div.sk-toggleable__content pre {margin: 0.2em;color: black;border-radius: 0.25em;background-color: #f0f8ff;}#sk-container-id-2 input.sk-toggleable__control:checked~div.sk-toggleable__content {max-height: 200px;max-width: 100%;overflow: auto;}#sk-container-id-2 input.sk-toggleable__control:checked~label.sk-toggleable__label-arrow:before {content: \"▾\";}#sk-container-id-2 div.sk-estimator input.sk-toggleable__control:checked~label.sk-toggleable__label {background-color: #d4ebff;}#sk-container-id-2 div.sk-label input.sk-toggleable__control:checked~label.sk-toggleable__label {background-color: #d4ebff;}#sk-container-id-2 input.sk-hidden--visually {border: 0;clip: rect(1px 1px 1px 1px);clip: rect(1px, 1px, 1px, 1px);height: 1px;margin: -1px;overflow: hidden;padding: 0;position: absolute;width: 1px;}#sk-container-id-2 div.sk-estimator {font-family: monospace;background-color: #f0f8ff;border: 1px dotted black;border-radius: 0.25em;box-sizing: border-box;margin-bottom: 0.5em;}#sk-container-id-2 div.sk-estimator:hover {background-color: #d4ebff;}#sk-container-id-2 div.sk-parallel-item::after {content: \"\";width: 100%;border-bottom: 1px solid gray;flex-grow: 1;}#sk-container-id-2 div.sk-label:hover label.sk-toggleable__label {background-color: #d4ebff;}#sk-container-id-2 div.sk-serial::before {content: \"\";position: absolute;border-left: 1px solid gray;box-sizing: border-box;top: 0;bottom: 0;left: 50%;z-index: 0;}#sk-container-id-2 div.sk-serial {display: flex;flex-direction: column;align-items: center;background-color: white;padding-right: 0.2em;padding-left: 0.2em;position: relative;}#sk-container-id-2 div.sk-item {position: relative;z-index: 1;}#sk-container-id-2 div.sk-parallel {display: flex;align-items: stretch;justify-content: center;background-color: white;position: relative;}#sk-container-id-2 div.sk-item::before, #sk-container-id-2 div.sk-parallel-item::before {content: \"\";position: absolute;border-left: 1px solid gray;box-sizing: border-box;top: 0;bottom: 0;left: 50%;z-index: -1;}#sk-container-id-2 div.sk-parallel-item {display: flex;flex-direction: column;z-index: 1;position: relative;background-color: white;}#sk-container-id-2 div.sk-parallel-item:first-child::after {align-self: flex-end;width: 50%;}#sk-container-id-2 div.sk-parallel-item:last-child::after {align-self: flex-start;width: 50%;}#sk-container-id-2 div.sk-parallel-item:only-child::after {width: 0;}#sk-container-id-2 div.sk-dashed-wrapped {border: 1px dashed gray;margin: 0 0.4em 0.5em 0.4em;box-sizing: border-box;padding-bottom: 0.4em;background-color: white;}#sk-container-id-2 div.sk-label label {font-family: monospace;font-weight: bold;display: inline-block;line-height: 1.2em;}#sk-container-id-2 div.sk-label-container {text-align: center;}#sk-container-id-2 div.sk-container {/* jupyter's `normalize.less` sets `[hidden] { display: none; }` but bootstrap.min.css set `[hidden] { display: none !important; }` so we also need the `!important` here to be able to override the default hidden behavior on the sphinx rendered scikit-learn.org. See: https://github.com/scikit-learn/scikit-learn/issues/21755 */display: inline-block !important;position: relative;}#sk-container-id-2 div.sk-text-repr-fallback {display: none;}</style><div id=\"sk-container-id-2\" class=\"sk-top-container\"><div class=\"sk-text-repr-fallback\"><pre>RandomForestClassifier(class_weight=&#x27;balanced&#x27;, max_depth=3, n_estimators=10,\n",
              "                       random_state=1234)</pre><b>In a Jupyter environment, please rerun this cell to show the HTML representation or trust the notebook. <br />On GitHub, the HTML representation is unable to render, please try loading this page with nbviewer.org.</b></div><div class=\"sk-container\" hidden><div class=\"sk-item\"><div class=\"sk-estimator sk-toggleable\"><input class=\"sk-toggleable__control sk-hidden--visually\" id=\"sk-estimator-id-2\" type=\"checkbox\" checked><label for=\"sk-estimator-id-2\" class=\"sk-toggleable__label sk-toggleable__label-arrow\">RandomForestClassifier</label><div class=\"sk-toggleable__content\"><pre>RandomForestClassifier(class_weight=&#x27;balanced&#x27;, max_depth=3, n_estimators=10,\n",
              "                       random_state=1234)</pre></div></div></div></div></div>"
            ]
          },
          "metadata": {},
          "execution_count": 15
        }
      ]
    },
    {
      "cell_type": "code",
      "source": [
        "# Evaluate Precision, Recall, and F1 using Test Data\n",
        "prediction_rf= model_rf.predict(df_test[features])\n",
        "label_rf= df_test[target].values\n",
        "\n",
        "#Print\n",
        "print(\"precision_score\\t:\" ,round(precision_score(label_rf, prediction_rf),4))\n",
        "print(\"recall_score \\t:\" ,round(recall_score(label_rf, prediction_rf),4))\n",
        "print(\"f1_score \\t:\" ,round(f1_score(label_rf, prediction_rf),4))"
      ],
      "metadata": {
        "id": "TpWDif_q6Hlt",
        "colab": {
          "base_uri": "https://localhost:8080/"
        },
        "outputId": "4dede836-80da-49a4-b39e-914a81d20d11"
      },
      "execution_count": 16,
      "outputs": [
        {
          "output_type": "stream",
          "name": "stdout",
          "text": [
            "precision_score\t: 0.4733\n",
            "recall_score \t: 0.801\n",
            "f1_score \t: 0.595\n"
          ]
        }
      ]
    },
    {
      "cell_type": "markdown",
      "source": [
        "## Train & Evaluate Your own model\n",
        "\n",
        "Feel free to pick any classification model in https://scikit-learn.org/stable/supervised_learning.html\n",
        "\n",
        "But you required to have higher f1_score more than `0.61`\n"
      ],
      "metadata": {
        "id": "S5dhM5XH7vgq"
      }
    },
    {
      "cell_type": "code",
      "source": [
        "# import model\n",
        "from sklearn.ensemble import RandomForestClassifier\n",
        "\n",
        "# initiate model\n",
        "model_own = RandomForestClassifier(n_estimators= 75, max_depth=8, random_state=1234, class_weight = \"balanced\")\n",
        "\n",
        "# Train model\n",
        "model_own.fit(df_train[features].values, df_train[target].values)\n"
      ],
      "metadata": {
        "id": "4vSr5dra9C_r",
        "colab": {
          "base_uri": "https://localhost:8080/",
          "height": 91
        },
        "outputId": "8c9b584f-0361-4162-c282-cd66d4adfc3b"
      },
      "execution_count": 87,
      "outputs": [
        {
          "output_type": "execute_result",
          "data": {
            "text/plain": [
              "RandomForestClassifier(class_weight='balanced', max_depth=8, n_estimators=75,\n",
              "                       random_state=1234)"
            ],
            "text/html": [
              "<style>#sk-container-id-29 {color: black;background-color: white;}#sk-container-id-29 pre{padding: 0;}#sk-container-id-29 div.sk-toggleable {background-color: white;}#sk-container-id-29 label.sk-toggleable__label {cursor: pointer;display: block;width: 100%;margin-bottom: 0;padding: 0.3em;box-sizing: border-box;text-align: center;}#sk-container-id-29 label.sk-toggleable__label-arrow:before {content: \"▸\";float: left;margin-right: 0.25em;color: #696969;}#sk-container-id-29 label.sk-toggleable__label-arrow:hover:before {color: black;}#sk-container-id-29 div.sk-estimator:hover label.sk-toggleable__label-arrow:before {color: black;}#sk-container-id-29 div.sk-toggleable__content {max-height: 0;max-width: 0;overflow: hidden;text-align: left;background-color: #f0f8ff;}#sk-container-id-29 div.sk-toggleable__content pre {margin: 0.2em;color: black;border-radius: 0.25em;background-color: #f0f8ff;}#sk-container-id-29 input.sk-toggleable__control:checked~div.sk-toggleable__content {max-height: 200px;max-width: 100%;overflow: auto;}#sk-container-id-29 input.sk-toggleable__control:checked~label.sk-toggleable__label-arrow:before {content: \"▾\";}#sk-container-id-29 div.sk-estimator input.sk-toggleable__control:checked~label.sk-toggleable__label {background-color: #d4ebff;}#sk-container-id-29 div.sk-label input.sk-toggleable__control:checked~label.sk-toggleable__label {background-color: #d4ebff;}#sk-container-id-29 input.sk-hidden--visually {border: 0;clip: rect(1px 1px 1px 1px);clip: rect(1px, 1px, 1px, 1px);height: 1px;margin: -1px;overflow: hidden;padding: 0;position: absolute;width: 1px;}#sk-container-id-29 div.sk-estimator {font-family: monospace;background-color: #f0f8ff;border: 1px dotted black;border-radius: 0.25em;box-sizing: border-box;margin-bottom: 0.5em;}#sk-container-id-29 div.sk-estimator:hover {background-color: #d4ebff;}#sk-container-id-29 div.sk-parallel-item::after {content: \"\";width: 100%;border-bottom: 1px solid gray;flex-grow: 1;}#sk-container-id-29 div.sk-label:hover label.sk-toggleable__label {background-color: #d4ebff;}#sk-container-id-29 div.sk-serial::before {content: \"\";position: absolute;border-left: 1px solid gray;box-sizing: border-box;top: 0;bottom: 0;left: 50%;z-index: 0;}#sk-container-id-29 div.sk-serial {display: flex;flex-direction: column;align-items: center;background-color: white;padding-right: 0.2em;padding-left: 0.2em;position: relative;}#sk-container-id-29 div.sk-item {position: relative;z-index: 1;}#sk-container-id-29 div.sk-parallel {display: flex;align-items: stretch;justify-content: center;background-color: white;position: relative;}#sk-container-id-29 div.sk-item::before, #sk-container-id-29 div.sk-parallel-item::before {content: \"\";position: absolute;border-left: 1px solid gray;box-sizing: border-box;top: 0;bottom: 0;left: 50%;z-index: -1;}#sk-container-id-29 div.sk-parallel-item {display: flex;flex-direction: column;z-index: 1;position: relative;background-color: white;}#sk-container-id-29 div.sk-parallel-item:first-child::after {align-self: flex-end;width: 50%;}#sk-container-id-29 div.sk-parallel-item:last-child::after {align-self: flex-start;width: 50%;}#sk-container-id-29 div.sk-parallel-item:only-child::after {width: 0;}#sk-container-id-29 div.sk-dashed-wrapped {border: 1px dashed gray;margin: 0 0.4em 0.5em 0.4em;box-sizing: border-box;padding-bottom: 0.4em;background-color: white;}#sk-container-id-29 div.sk-label label {font-family: monospace;font-weight: bold;display: inline-block;line-height: 1.2em;}#sk-container-id-29 div.sk-label-container {text-align: center;}#sk-container-id-29 div.sk-container {/* jupyter's `normalize.less` sets `[hidden] { display: none; }` but bootstrap.min.css set `[hidden] { display: none !important; }` so we also need the `!important` here to be able to override the default hidden behavior on the sphinx rendered scikit-learn.org. See: https://github.com/scikit-learn/scikit-learn/issues/21755 */display: inline-block !important;position: relative;}#sk-container-id-29 div.sk-text-repr-fallback {display: none;}</style><div id=\"sk-container-id-29\" class=\"sk-top-container\"><div class=\"sk-text-repr-fallback\"><pre>RandomForestClassifier(class_weight=&#x27;balanced&#x27;, max_depth=8, n_estimators=75,\n",
              "                       random_state=1234)</pre><b>In a Jupyter environment, please rerun this cell to show the HTML representation or trust the notebook. <br />On GitHub, the HTML representation is unable to render, please try loading this page with nbviewer.org.</b></div><div class=\"sk-container\" hidden><div class=\"sk-item\"><div class=\"sk-estimator sk-toggleable\"><input class=\"sk-toggleable__control sk-hidden--visually\" id=\"sk-estimator-id-29\" type=\"checkbox\" checked><label for=\"sk-estimator-id-29\" class=\"sk-toggleable__label sk-toggleable__label-arrow\">RandomForestClassifier</label><div class=\"sk-toggleable__content\"><pre>RandomForestClassifier(class_weight=&#x27;balanced&#x27;, max_depth=8, n_estimators=75,\n",
              "                       random_state=1234)</pre></div></div></div></div></div>"
            ]
          },
          "metadata": {},
          "execution_count": 87
        }
      ]
    },
    {
      "cell_type": "code",
      "source": [
        "# Evaluate Precision, Recall, and F1 using Test Data\n",
        "prediction_own= model_own.predict(df_test[features])\n",
        "label_own= df_test[target].values\n",
        "\n",
        "#Print\n",
        "print(\"precision_score\\t:\" ,precision_score(label_own, prediction_own))\n",
        "print(\"recall_score \\t:\" ,recall_score(label_own, prediction_own))\n",
        "print(\"f1_score \\t:\" ,f1_score(label_own, prediction_own))"
      ],
      "metadata": {
        "id": "YMGUw415MCtx",
        "colab": {
          "base_uri": "https://localhost:8080/"
        },
        "outputId": "97a14a88-eccc-4642-bf3c-d2f5eec34995"
      },
      "execution_count": 88,
      "outputs": [
        {
          "output_type": "stream",
          "name": "stdout",
          "text": [
            "precision_score\t: 0.5158371040723982\n",
            "recall_score \t: 0.7625418060200669\n",
            "f1_score \t: 0.6153846153846154\n"
          ]
        }
      ]
    },
    {
      "cell_type": "markdown",
      "source": [
        "# Business impact comparison from several models"
      ],
      "metadata": {
        "id": "PSMFwTKsOzPr"
      }
    },
    {
      "cell_type": "markdown",
      "source": [
        "[recall the assumption]\n",
        "\n",
        "assumsions:\n",
        "\n",
        "* For each customer churn, we lost $500.\n",
        "\n",
        "* Engagement program cost is $100, and\n",
        "\n",
        "* All customer that get engagement will stay\n",
        "\n",
        "----\n",
        "We want to compare the business impact on:\n",
        "* Case 1: if no engagement program\n",
        "* Case 2: if we send engagement program to all user\n",
        "* Case 3: if we send engagement program based on above decision tree (`model_tree`)\n",
        "* Case 4: if we send engagement program based on above random forest (`model_rf`)  \n",
        "* Case 5: if we send engagement program based on above the best model (`model`)\n",
        "\n",
        "----"
      ],
      "metadata": {
        "id": "eUhyjLUgOjc4"
      }
    },
    {
      "cell_type": "markdown",
      "source": [
        "First we calculate how many customer and churn customer in test dataset"
      ],
      "metadata": {
        "id": "5bKaJDPCFP9V"
      }
    },
    {
      "cell_type": "code",
      "source": [
        "total_customer = len(df_test)\n",
        "real_churn = len(df_test.loc[df_test[target] == 1])\n",
        "\n",
        "print(\"Total customer \\t:\", total_customer)\n",
        "print(\"Total churn \\t:\", real_churn)"
      ],
      "metadata": {
        "id": "VoJWSKBoFla9",
        "colab": {
          "base_uri": "https://localhost:8080/"
        },
        "outputId": "d1536775-716a-45bb-b4e4-0862596b5fc5"
      },
      "execution_count": 73,
      "outputs": [
        {
          "output_type": "stream",
          "name": "stdout",
          "text": [
            "Total customer \t: 2325\n",
            "Total churn \t: 598\n"
          ]
        }
      ]
    },
    {
      "cell_type": "markdown",
      "source": [
        "Save the assumption into variable"
      ],
      "metadata": {
        "id": "uOz8-wAKF7r0"
      }
    },
    {
      "cell_type": "code",
      "source": [
        "churn_value_lost_per_customer = 500\n",
        "engagement_cost_per_customer = 100\n",
        "\n",
        "print(\"Churn Value Lost per customer\\t:\", churn_value_lost_per_customer)\n",
        "print(\"Engagement Cost per customer\\t:\", engagement_cost_per_customer)"
      ],
      "metadata": {
        "id": "apFOsvF_F-VG",
        "colab": {
          "base_uri": "https://localhost:8080/"
        },
        "outputId": "0655c1da-da65-48e6-82c1-321198dd8c87"
      },
      "execution_count": 74,
      "outputs": [
        {
          "output_type": "stream",
          "name": "stdout",
          "text": [
            "Churn Value Lost per customer\t: 500\n",
            "Engagement Cost per customer\t: 100\n"
          ]
        }
      ]
    },
    {
      "cell_type": "markdown",
      "source": [
        "## Case 1: if no engagement program"
      ],
      "metadata": {
        "id": "Tn_Tmw5oFzAv"
      }
    },
    {
      "cell_type": "code",
      "source": [
        "print(\"CASE 1: If no engagement program\")\n",
        "\n",
        "value_lost_case1 = real_churn * churn_value_lost_per_customer\n",
        "engagement_cost_case1 = 0 # because no engagement\n",
        "total_cost_case1 = value_lost_case1 + engagement_cost_case1\n",
        "print(\"\\t Value Lost \\t: $\", value_lost_case1)\n",
        "print(\"\\t Engagement cost: $\", engagement_cost_case1)\n",
        "print(\"\\t Total cost \\t: $\",  total_cost_case1)\n"
      ],
      "metadata": {
        "id": "XlBLMxghFpnC",
        "colab": {
          "base_uri": "https://localhost:8080/"
        },
        "outputId": "ffb4c87e-3403-4938-9c54-ea9eceaba924"
      },
      "execution_count": 75,
      "outputs": [
        {
          "output_type": "stream",
          "name": "stdout",
          "text": [
            "CASE 1: If no engagement program\n",
            "\t Value Lost \t: $ 299000\n",
            "\t Engagement cost: $ 0\n",
            "\t Total cost \t: $ 299000\n"
          ]
        }
      ]
    },
    {
      "cell_type": "markdown",
      "source": [
        "## Case 2: if we send engagement program to all user"
      ],
      "metadata": {
        "id": "aVUbcoMNG_U4"
      }
    },
    {
      "cell_type": "code",
      "source": [
        "print(\"Case 2: if we send engagement program to all user\")\n",
        "\n",
        "value_lost_case2 = 0 # because no customer lost\n",
        "engagement_cost_case2 = total_customer * engagement_cost_per_customer\n",
        "total_cost_case2 = value_lost_case2 + engagement_cost_case2\n",
        "print(\"\\t Value Lost \\t: $\", value_lost_case2)\n",
        "print(\"\\t Engagement cost: $\", engagement_cost_case2)\n",
        "print(\"\\t Total cost \\t: $\",  total_cost_case2)\n"
      ],
      "metadata": {
        "id": "rqFU__FaFpkZ",
        "colab": {
          "base_uri": "https://localhost:8080/"
        },
        "outputId": "34cac860-b50d-4e95-9da8-edd673aaf8e7"
      },
      "execution_count": 76,
      "outputs": [
        {
          "output_type": "stream",
          "name": "stdout",
          "text": [
            "Case 2: if we send engagement program to all user\n",
            "\t Value Lost \t: $ 0\n",
            "\t Engagement cost: $ 232500\n",
            "\t Total cost \t: $ 232500\n"
          ]
        }
      ]
    },
    {
      "cell_type": "markdown",
      "source": [
        "Looks like if we send engagement program to all customer, it is more beneficial for the company (232500 < 299000)\n",
        "\n",
        "But lets see how the model performs"
      ],
      "metadata": {
        "id": "Lca7l9BaIRjf"
      }
    },
    {
      "cell_type": "markdown",
      "source": [
        "## Case 3: if we send engagement program based on above decision tree (`model_tree`)"
      ],
      "metadata": {
        "id": "ENFZJcuRIfO9"
      }
    },
    {
      "cell_type": "markdown",
      "source": [
        "Tips, you need to find the number of\n",
        "* how many customer that predicted as churn (`predict_churn`)\n",
        "* how many customer that actually churn **but** we predict it as stay (`real_churn_predict_stay`)\n",
        "\n",
        "Hint: you can use confussion matrix\n",
        "```python\n",
        "confusion_matrix(y_true_test, y_pred_test)\n",
        "```\n",
        "explore the indexing of `confusion_matrix` like using `[0,0]` to get the number inside confusion matrix\n",
        "```python\n",
        "confusion_matrix(y_true_test, y_pred_test)[0,0]\n",
        "```\n",
        "\n",
        "for reminder, this is the content of confusion matrix\n",
        "![Confusion metrics](https://miro.medium.com/v2/resize:fit:974/1*H_XIN0mknyo0Maw4pKdQhw.png)"
      ],
      "metadata": {
        "id": "GeNwr7eMJAIW"
      }
    },
    {
      "cell_type": "code",
      "source": [
        "print(\"CASE 3:  if we send engagement program based on above decision tree (model_tree)\")\n",
        "\n",
        "conf_mat = confusion_matrix(label, prediction)\n",
        "conf_mat\n",
        "\n",
        "real_stay_predict_stay = conf_mat[0,0]\n",
        "real_stay_predict_churn = conf_mat[0,1]\n",
        "real_churn_predict_stay = conf_mat[1,0]\n",
        "real_churn_predict_churn = conf_mat[1,1]\n",
        "\n",
        "real_churn = real_churn_predict_stay + real_churn_predict_churn\n",
        "predict_churn = real_stay_predict_churn + real_churn_predict_churn\n",
        "\n",
        "\n",
        "\n",
        "print(\"\\t Value Lost \\t: $\",  real_churn_predict_stay * churn_value_lost_per_customer)\n",
        "print(\"\\t Engagement cost: $\", predict_churn * engagement_cost_per_customer)\n",
        "print(\"\\t Total cost \\t: $\",  (real_churn_predict_stay * churn_value_lost_per_customer) + (predict_churn * engagement_cost_per_customer))\n"
      ],
      "metadata": {
        "id": "fDowIor5ERKL",
        "colab": {
          "base_uri": "https://localhost:8080/"
        },
        "outputId": "72c2a1e2-65d5-4279-950d-6fdf8567508e"
      },
      "execution_count": 77,
      "outputs": [
        {
          "output_type": "stream",
          "name": "stdout",
          "text": [
            "CASE 3:  if we send engagement program based on above decision tree (model_tree)\n",
            "\t Value Lost \t: $ 73500\n",
            "\t Engagement cost: $ 97400\n",
            "\t Total cost \t: $ 170900\n"
          ]
        }
      ]
    },
    {
      "cell_type": "markdown",
      "source": [
        "## Case 4: if we send engagement program based on above random forest (`model_rf`)  "
      ],
      "metadata": {
        "id": "f2UqpLyZKybE"
      }
    },
    {
      "cell_type": "code",
      "source": [
        "print(\"Case 4: if we send engagement program based on above random forest (model_rf) \")\n",
        "conf_mat_rf = confusion_matrix(label_rf, prediction_rf)\n",
        "conf_mat_rf\n",
        "\n",
        "real_stay_predict_stay_rf= conf_mat_rf[0,0]\n",
        "real_stay_predict_churn_rf = conf_mat_rf[0,1]\n",
        "real_churn_predict_stay_rf = conf_mat_rf[1,0]\n",
        "real_churn_predict_churn_rf = conf_mat_rf[1,1]\n",
        "\n",
        "real_churn_rf = real_churn_predict_stay_rf + real_churn_predict_churn_rf\n",
        "predict_churn_rf = real_stay_predict_churn_rf + real_churn_predict_churn_rf\n",
        "\n",
        "print(\"\\t Value Lost \\t: $\",  real_churn_predict_stay_rf * churn_value_lost_per_customer)\n",
        "print(\"\\t Engagement cost: $\", predict_churn_rf * engagement_cost_per_customer)\n",
        "print(\"\\t Total cost \\t: $\",  (real_churn_predict_stay_rf * churn_value_lost_per_customer) + (predict_churn_rf * engagement_cost_per_customer))\n"
      ],
      "metadata": {
        "id": "VeqzN_zTzPaD",
        "colab": {
          "base_uri": "https://localhost:8080/"
        },
        "outputId": "e7e3b312-5b97-4f2d-9599-27196b799bdb"
      },
      "execution_count": 79,
      "outputs": [
        {
          "output_type": "stream",
          "name": "stdout",
          "text": [
            "Case 4: if we send engagement program based on above random forest (model_rf) \n",
            "\t Value Lost \t: $ 59500\n",
            "\t Engagement cost: $ 101200\n",
            "\t Total cost \t: $ 160700\n"
          ]
        }
      ]
    },
    {
      "cell_type": "markdown",
      "source": [
        "## Case 5: if we send engagement program based on above the best model (model)"
      ],
      "metadata": {
        "id": "IESCF0c2K6uy"
      }
    },
    {
      "cell_type": "code",
      "source": [
        "print(\"Case 5: if we send engagement program based on above the best model (model)\")\n",
        "conf_mat_best = confusion_matrix(label_own, prediction_own)\n",
        "conf_mat_best\n",
        "\n",
        "real_stay_predict_stay_best= conf_mat_best[0,0]\n",
        "real_stay_predict_churn_best = conf_mat_best[0,1]\n",
        "real_churn_predict_stay_best = conf_mat_best[1,0]\n",
        "real_churn_predict_churn_best = conf_mat_best[1,1]\n",
        "\n",
        "real_churn_best = real_churn_predict_stay_best + real_churn_predict_churn_best\n",
        "predict_churn_best = real_stay_predict_churn_best + real_churn_predict_churn_best\n",
        "\n",
        "print(\"\\t Value Lost \\t: $\",  real_churn_predict_stay_best * churn_value_lost_per_customer)\n",
        "print(\"\\t Engagement cost: $\", predict_churn_best * engagement_cost_per_customer)\n",
        "print(\"\\t Total cost \\t: $\",  (real_churn_predict_stay_best * churn_value_lost_per_customer) + (predict_churn_best * engagement_cost_per_customer))"
      ],
      "metadata": {
        "id": "GVmtx1l7K4gd",
        "colab": {
          "base_uri": "https://localhost:8080/"
        },
        "outputId": "5d75e1dc-0a39-47cb-fa6a-40d9bcc2b6be"
      },
      "execution_count": 89,
      "outputs": [
        {
          "output_type": "stream",
          "name": "stdout",
          "text": [
            "Case 5: if we send engagement program based on above the best model (model)\n",
            "\t Value Lost \t: $ 71000\n",
            "\t Engagement cost: $ 88400\n",
            "\t Total cost \t: $ 159400\n"
          ]
        }
      ]
    },
    {
      "cell_type": "markdown",
      "source": [
        "Based on the calculation above, We can save the cost from  299000  to  170900 or  42.84 % using model case  3  compare with if we do not take action at all\n",
        "Based on the calculation above, We can save the cost from  299000  to  160700 or  46.25 % using model case  4  compare with if we do not take action at all\n",
        "Based on the calculation above, We can save the cost from  299000  to  159400 or  46.68 % using model case  5  compare with if we do not take action at all"
      ],
      "metadata": {
        "id": "eNTReHcCjGKh"
      }
    },
    {
      "cell_type": "code",
      "source": [],
      "metadata": {
        "id": "KV7K9RHkLDIw"
      },
      "execution_count": null,
      "outputs": []
    }
  ]
}